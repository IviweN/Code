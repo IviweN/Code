{
  "nbformat": 4,
  "nbformat_minor": 0,
  "metadata": {
    "colab": {
      "provenance": [],
      "authorship_tag": "ABX9TyMNcNZsIEu5lXjvj3jFCNUl",
      "include_colab_link": true
    },
    "kernelspec": {
      "name": "python3",
      "display_name": "Python 3"
    },
    "language_info": {
      "name": "python"
    }
  },
  "cells": [
    {
      "cell_type": "markdown",
      "metadata": {
        "id": "view-in-github",
        "colab_type": "text"
      },
      "source": [
        "<a href=\"https://colab.research.google.com/github/IviweN/Code/blob/main/Smart_AI_chatbot_using_NLP_and_skLearn.ipynb\" target=\"_parent\"><img src=\"https://colab.research.google.com/assets/colab-badge.svg\" alt=\"Open In Colab\"/></a>"
      ]
    },
    {
      "cell_type": "code",
      "metadata": {
        "id": "QDdF8PYF-xTg"
      },
      "source": [
        "#This is a 'smart chat bot program'\n"
      ],
      "execution_count": null,
      "outputs": []
    },
    {
      "cell_type": "code",
      "metadata": {
        "id": "zEiYBZUJ_7Ln"
      },
      "source": [
        "pip install newspaper3k"
      ],
      "execution_count": null,
      "outputs": []
    },
    {
      "cell_type": "code",
      "metadata": {
        "id": "0cInmn_6-8sI"
      },
      "source": [
        "#Load the libraries\n",
        "import numpy as np\n",
        "from newspaper import Article\n",
        "import nltk\n",
        "import random\n",
        "import string\n",
        "from sklearn.feature_extraction.text import CountVectorizer\n",
        "from sklearn.metrics.pairwise import cosine_similarity\n",
        "import warnings\n",
        "warnings.filterwarnings('ignore')"
      ],
      "execution_count": null,
      "outputs": []
    },
    {
      "cell_type": "code",
      "metadata": {
        "id": "qfPWkBh7ALuO",
        "colab": {
          "base_uri": "https://localhost:8080/"
        },
        "outputId": "76b9172d-5760-425a-831c-18d6b3a203fd"
      },
      "source": [
        "#Download the punkt package\n",
        "nltk.download('punkt', quiet = True)"
      ],
      "execution_count": null,
      "outputs": [
        {
          "output_type": "execute_result",
          "data": {
            "text/plain": [
              "True"
            ]
          },
          "metadata": {
            "tags": []
          },
          "execution_count": 5
        }
      ]
    },
    {
      "cell_type": "code",
      "metadata": {
        "id": "TRR_6ydbAltw"
      },
      "source": [
        "#Get the article\n",
        "article = Article('https://www.mayoclinic.org/diseases-conditions/chronic-kidney-disease/symptoms-causes/syc-20354521')\n",
        "article.download()\n",
        "article.parse() #Categories words using parse tree\n",
        "article.nlp()\n",
        "corpus = article.text"
      ],
      "execution_count": null,
      "outputs": []
    },
    {
      "cell_type": "code",
      "metadata": {
        "id": "IWqJXbQ-BN4J"
      },
      "source": [
        "#Print the article's text\n",
        "print(corpus)"
      ],
      "execution_count": null,
      "outputs": []
    },
    {
      "cell_type": "code",
      "metadata": {
        "id": "F9R0FwRdGPoe"
      },
      "source": [
        "#Tokenization\n",
        "text = corpus\n",
        "sentence_list = nltk.sent_tokenize(text)"
      ],
      "execution_count": null,
      "outputs": []
    },
    {
      "cell_type": "code",
      "metadata": {
        "id": "ghHAuYTOG8as"
      },
      "source": [
        "#A function to return a random greeting response to a user's greeting\n",
        "def greeting_response(text):\n",
        "  text = text.lower()\n",
        "\n",
        "  #Bot's greeting response\n",
        "  bot_greetings = ['hi','hello','hey','hi there']\n",
        "  #User greeting\n",
        "  user_greetings = ['hi','hey', 'hi there','help']\n",
        "\n",
        "  for word in text.split():\n",
        "    if word in user_greetings:\n",
        "      return random.choice(bot_greetings)"
      ],
      "execution_count": null,
      "outputs": []
    },
    {
      "cell_type": "code",
      "metadata": {
        "id": "kZC-cdtrJO50"
      },
      "source": [
        "def index_sort(list_var):\n",
        "  length = len(list_var)\n",
        "  list_index = list(range(0,length))\n",
        "\n",
        "  x = list_var\n",
        "  for i in range(length):\n",
        "    for j in range(length):\n",
        "      if x[list_index[i]] > x[list_index[j]]:\n",
        "      #swap\n",
        "        temp = list_index[i]\n",
        "        list_index[i] = list_index[j]\n",
        "        list_index[j] = temp\n",
        "\n",
        "      return list_index"
      ],
      "execution_count": null,
      "outputs": []
    },
    {
      "cell_type": "code",
      "metadata": {
        "id": "qyPtOIWvIhNc"
      },
      "source": [
        "#Create the bots response\n",
        "def bot_response(user_input):\n",
        "  user_input = user_input.lower\n",
        "  sentence_list.append(user_unput)\n",
        "  bot_response = ''\n",
        "  cm = CountVectorizer().fit_transform(sentence_list)\n",
        "  similarity_scores = cosine_similarity(cm[-1], cm)\n",
        "  similarity_scores_list = similarity_scores.flatten()\n",
        "  index = index_sort(similarity_scores_list)"
      ],
      "execution_count": null,
      "outputs": []
    },
    {
      "cell_type": "code",
      "metadata": {
        "id": "PnedAavuLagm"
      },
      "source": [
        "user_input = 'hello world'\n",
        "sentence_list.append(user_input)\n",
        "bot_response = ''\n",
        "cm = CountVectorizer().fit_transform(sentence_list)\n",
        "similarity_scores = cosine_similarity(cm[-1], cm)\n",
        "similarity_scores_list = similarity_scores.flatten()\n",
        "index = index_sort(similarity_scores_list)"
      ],
      "execution_count": null,
      "outputs": []
    }
  ]
}